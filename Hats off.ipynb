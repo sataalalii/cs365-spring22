{
 "cells": [
  {
   "cell_type": "code",
   "execution_count": 1,
   "id": "4d2df166",
   "metadata": {},
   "outputs": [],
   "source": [
    "import numpy as np \n",
    "import matplotlib.pyplot as plt\n",
    "%matplotlib inline "
   ]
  },
  {
   "cell_type": "code",
   "execution_count": 6,
   "id": "53d56058",
   "metadata": {},
   "outputs": [
    {
     "data": {
      "image/png": "[encoded data removed]",
      "text/plain": [
       "<Figure size 432x288 with 1 Axes>"
      ]
     },
     "metadata": {
      "needs_background": "light"
     },
     "output_type": "display_data"
    }
   ],
   "source": [
    "def simulate_hatsoff(hats=1000,n_exp=10000):\n",
    "    res = np.zeros(n_exp)\n",
    "    #res = [] \n",
    "    identity= np.arange(hats)\n",
    "    for i in range(n_exp):\n",
    "        myperm = np.random.permutation(hats) \n",
    "        fixed_points =  np.sum(identity == myperm)\n",
    "        res[i] = fixed_points \n",
    "    return res\n",
    "\n",
    "res = simulate_hatsoff()\n",
    "_ = plt.hist(res,bins='auto')"
   ]
  },
  {
   "cell_type": "code",
   "execution_count": 3,
   "id": "8f2b4afa",
   "metadata": {},
   "outputs": [],
   "source": [
    "from scipy.stats import poisson"
   ]
  },
  {
   "cell_type": "code",
   "execution_count": 7,
   "id": "56bfc0b2",
   "metadata": {},
   "outputs": [
    {
     "data": {
      "image/png": "[encoded data removed]",
      "text/plain": [
       "<Figure size 432x288 with 1 Axes>"
      ]
     },
     "metadata": {
      "needs_background": "light"
     },
     "output_type": "display_data"
    }
   ],
   "source": [
    "r = poisson.rvs(1, size=10000)\n",
    "_ = plt.hist(r,bins='auto')"
   ]
  },
  {
   "cell_type": "markdown",
   "id": "2956d859",
   "metadata": {},
   "source": [
    "The similarity between the two histograms, is far from being a coincidence. As we will see in class, the variable $S_n$ in the hats off problem (see lecture 2) is distributed according to the Poisson distribution with $\\lambda=1$"
   ]
  },
  {
   "cell_type": "code",
   "execution_count": null,
   "id": "1cd18a0d",
   "metadata": {},
   "outputs": [],
   "source": []
  }
 ],
 "metadata": {
  "kernelspec": {
   "display_name": "Python 3 (ipykernel)",
   "language": "python",
   "name": "python3"
  },
  "language_info": {
   "codemirror_mode": {
    "name": "ipython",
    "version": 3
   },
   "file_extension": ".py",
   "mimetype": "text/x-python",
   "name": "python",
   "nbconvert_exporter": "python",
   "pygments_lexer": "ipython3",
   "version": "3.9.7"
  }
 },
 "nbformat": 4,
 "nbformat_minor": 5
}
