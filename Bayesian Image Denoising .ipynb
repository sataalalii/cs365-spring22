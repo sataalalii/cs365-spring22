{
 "cells": [
  {
   "cell_type": "code",
   "execution_count": 1,
   "metadata": {
    "collapsed": true
   },
   "outputs": [],
   "source": [
    "import igraph\n",
    "import random \n",
    "import numpy as np\n",
    "\n",
    "import matplotlib.pyplot as plt\n",
    "import matplotlib.cm as cm\n",
    "%matplotlib inline"
   ]
  },
  {
   "cell_type": "code",
   "execution_count": 2,
   "metadata": {
    "collapsed": false
   },
   "outputs": [],
   "source": [
    "### helper methods ###\n",
    "def drange(start, stop, step):\n",
    "    \"\"\"range the supports floats\"\"\"\n",
    "    r = start\n",
    "    while r < stop:\n",
    "        yield round(r, len(str(step)))\n",
    "        r += step\n",
    "        \n",
    "def errors(true, predicted):\n",
    "    return (true != predicted).sum()\n",
    "\n",
    "def plot_images(images):\n",
    "    fig = plt.figure()\n",
    "    for idx, fn in enumerate(images):\n",
    "        a = fig.add_subplot(1, len(images), idx+1)\n",
    "        plt.imshow(fn, cmap=cm.gray)\n",
    "        plt.axis('off')"
   ]
  },
  {
   "cell_type": "code",
   "execution_count": 3,
   "metadata": {
    "collapsed": false
   },
   "outputs": [
    {
     "data": {
      "image/png": "[encoded data removed]",
      "text/plain": [
       "<matplotlib.figure.Figure at 0x7f42beafdbe0>"
      ]
     },
     "metadata": {},
     "output_type": "display_data"
    }
   ],
   "source": [
    "image_a = np.array(\n",
    "        [[0, 0, 0, 0, 0, 0, 0, 0, 0, 0, 0, 0,],\n",
    "         [0, 0, 0, 0, 0, 0, 0, 0, 0, 0, 0, 0,],\n",
    "         [0, 0, 1, 1, 1, 1, 1, 1, 1, 1, 0, 0,],\n",
    "         [0, 0, 1, 1, 1, 1, 1, 1, 1, 1, 0, 0,],\n",
    "         [0, 0, 1, 1, 1, 1, 1, 1, 1, 1, 0, 0,],\n",
    "         [0, 0, 1, 1, 1, 0, 0, 1, 1, 1, 0, 0,],\n",
    "         [0, 0, 1, 1, 1, 0, 0, 1, 1, 1, 0, 0,],\n",
    "         [0, 0, 1, 1, 1, 1, 1, 1, 1, 1, 0, 0,],\n",
    "         [0, 0, 1, 1, 1, 1, 1, 1, 1, 1, 0, 0,],\n",
    "         [0, 0, 1, 1, 1, 0, 0, 1, 1, 1, 0, 0,],\n",
    "         [0, 0, 1, 1, 1, 0, 0, 1, 1, 1, 0, 0,],\n",
    "         [0, 0, 1, 1, 1, 0, 0, 1, 1, 1, 0, 0,],\n",
    "         [0, 0, 1, 1, 1, 0, 0, 1, 1, 1, 0, 0,],\n",
    "         [0, 0, 0, 0, 0, 0, 0, 0, 0, 0, 0, 0,],\n",
    "         [0, 0, 0, 0, 0, 0, 0, 0, 0, 0, 0, 0,]])\n",
    "\n",
    "image_t = np.array(\n",
    "        [[ 0, 0, 0, 0, 0, 0, 0, 0, 0, 0, 0, 0, 0,],\n",
    "         [ 0, 0, 0, 0, 0, 0, 0, 0, 0, 0, 0, 0, 0,],\n",
    "         [ 0, 0, 1, 1, 1, 1, 1, 1, 1, 1, 1, 0, 0,],\n",
    "         [ 0, 0, 1, 1, 1, 1, 1, 1, 1, 1, 1, 0, 0,],\n",
    "         [ 0, 0, 1, 1, 1, 1, 1, 1, 1, 1, 1, 0, 0,],\n",
    "         [ 0, 0, 0, 0, 0, 1, 1, 1, 0, 0, 0, 0, 0,],\n",
    "         [ 0, 0, 0, 0, 0, 1, 1, 1, 0, 0, 0, 0, 0,],\n",
    "         [ 0, 0, 0, 0, 0, 1, 1, 1, 0, 0, 0, 0, 0,],\n",
    "         [ 0, 0, 0, 0, 0, 1, 1, 1, 0, 0, 0, 0, 0,],\n",
    "         [ 0, 0, 0, 0, 0, 1, 1, 1, 0, 0, 0, 0, 0,],\n",
    "         [ 0, 0, 0, 0, 0, 1, 1, 1, 0, 0, 0, 0, 0,],\n",
    "         [ 0, 0, 0, 0, 0, 1, 1, 1, 0, 0, 0, 0, 0,],\n",
    "         [ 0, 0, 0, 0, 0, 1, 1, 1, 0, 0, 0, 0, 0,],\n",
    "         [ 0, 0, 0, 0, 0, 1, 1, 1, 0, 0, 0, 0, 0,],\n",
    "         [ 0, 0, 0, 0, 0, 0, 0, 0, 0, 0, 0, 0, 0,],\n",
    "         [ 0, 0, 0, 0, 0, 0, 0, 0, 0, 0, 0, 0, 0,]])\n",
    "\n",
    "plot_images([image_a, image_t])"
   ]
  },
  {
   "cell_type": "code",
   "execution_count": 4,
   "metadata": {
    "collapsed": true
   },
   "outputs": [],
   "source": [
    "def corrupt_image(img, p=0.15):\n",
    "    '''\n",
    "    @params: \n",
    "    img (list of lists): this is an input \"image\" represented as a binary matrix\n",
    "    p (float): each element with probablity p will be corrupted (flipped)\n",
    "    \n",
    "    @returns\n",
    "    img_copy (list of lists): binary matrix that has been corrupted\n",
    "    '''\n",
    "    img_copy = img.copy()\n",
    "    for idx, row in enumerate(img_copy):\n",
    "        for pixel_idx, pixel in enumerate(row):\n",
    "            if random.random() < p:\n",
    "                if pixel:\n",
    "                    img_copy[idx][pixel_idx] = 0\n",
    "                else:\n",
    "                    img_copy[idx][pixel_idx] = 1\n",
    "    return img_copy"
   ]
  },
  {
   "cell_type": "code",
   "execution_count": 5,
   "metadata": {
    "collapsed": true
   },
   "outputs": [],
   "source": [
    "def create_graph(img, K=1, R=0.5):\n",
    "    max_num = len(img)*len(img[0])\n",
    "    s,t = max_num, max_num + 1\n",
    "    edge_list = []\n",
    "    weights   = []\n",
    "    for r_idx, row in enumerate(img):\n",
    "        for idx, pixel in enumerate(row):\n",
    "            px_id = (r_idx*len(row)) + idx\n",
    "            \n",
    "            #add edges to each elements neighbors\n",
    "            \n",
    "            #add edge to cell to the left\n",
    "            if px_id: #!= 0\n",
    "                edge_list.append((px_id -1, px_id))\n",
    "                weights.append( K )\n",
    "            #add edge to cell to the right\n",
    "            if px_id != len(row) -1: #last pixel\n",
    "                edge_list.append((px_id +1, px_id))\n",
    "                weights.append( K )\n",
    "            #add edge to cell to the above\n",
    "            if r_idx: #!= 0\n",
    "                edge_list.append((px_id - len(row), px_id))\n",
    "                weights.append( K )\n",
    "            #add edge to cell to the below\n",
    "            if r_idx != len(img) -1: #last row\n",
    "                edge_list.append((px_id + len(row), px_id))\n",
    "                weights.append( K )\n",
    "            #add an edge to either s (source) or t (sink)\n",
    "            if pixel == 0:\n",
    "                edge_list.append((px_id, s))\n",
    "                weights.append( R )\n",
    "            else: #pixel == 1\n",
    "                edge_list.append((px_id, t))\n",
    "                weights.append( R )\n",
    "    return edge_list, weights, s, t"
   ]
  },
  {
   "cell_type": "code",
   "execution_count": 6,
   "metadata": {
    "collapsed": true
   },
   "outputs": [],
   "source": [
    "def recover(noisy, K=0, R=1):\n",
    "    \"\"\"\n",
    "    @params\n",
    "    noisy (list of lists): binary matrix (img) that has been corrupted\n",
    "    K (float): penalty for having a bad edge \n",
    "    R (float): penalty for flipping a bit\n",
    "    \n",
    "    @returns\n",
    "    recovered (list of lists): recovered binary matrix (\"image\")\n",
    "    \"\"\"\n",
    "    edge_list, weights, s, t = create_graph(noisy, K=K, R=R)\n",
    "    g = igraph.Graph(edge_list)\n",
    "    output = g.maxflow(s, t, weights)\n",
    "    recovered = np.array(output.membership[:-2]).reshape(noisy.shape)\n",
    "    return recovered"
   ]
  },
  {
   "cell_type": "code",
   "execution_count": 7,
   "metadata": {
    "collapsed": false
   },
   "outputs": [
    {
     "name": "stdout",
     "output_type": "stream",
     "text": [
      "(153, 1.0, 3.5)\n"
     ]
    }
   ],
   "source": [
    "#parameter search\n",
    "corrupted = [corrupt_image(image_a) for _ in range(10)]\n",
    "m = 1000\n",
    "for x in drange(0, 5, 0.5):\n",
    "    for y in drange(0, 5, 0.5):\n",
    "\n",
    "        b = sum([errors(image_a, recover(n, x, y)) for n in corrupted])\n",
    "        if b < m:\n",
    "            best = (b, x, y)\n",
    "            m = b\n",
    "print(best)\n",
    "error, selected_K, selected_R = best"
   ]
  },
  {
   "cell_type": "code",
   "execution_count": 8,
   "metadata": {
    "collapsed": false
   },
   "outputs": [
    {
     "data": {
      "image/png": "[encoded data removed]",
      "text/plain": [
       "<matplotlib.figure.Figure at 0x7f42bed955c0>"
      ]
     },
     "metadata": {},
     "output_type": "display_data"
    },
    {
     "data": {
      "image/png": "[encoded data removed]",
      "text/plain": [
       "<matplotlib.figure.Figure at 0x7f42bed95a58>"
      ]
     },
     "metadata": {},
     "output_type": "display_data"
    }
   ],
   "source": [
    "c_a = corrupt_image(image_a)\n",
    "c_t = corrupt_image(image_t)\n",
    "\n",
    "plot_images((image_a, c_a, recover(c_a, selected_K, selected_R)))\n",
    "plot_images((image_t, c_t, recover(c_t, selected_K, selected_R)))"
   ]
  },
  {
   "cell_type": "code",
   "execution_count": 9,
   "metadata": {
    "collapsed": false
   },
   "outputs": [
    {
     "name": "stdout",
     "output_type": "stream",
     "text": [
      "element-wise errors in corrupted image: 19\n",
      "element-wise errors in recovered image: 9\n"
     ]
    }
   ],
   "source": [
    "print(\"element-wise errors in corrupted image: {0}\\nelement-wise errors in recovered image: {1}\".format(errors(image_a, c_a), errors(image_a, recover(c_a, selected_K, selected_R))))"
   ]
  },
  {
   "cell_type": "code",
   "execution_count": 10,
   "metadata": {
    "collapsed": true
   },
   "outputs": [],
   "source": [
    "#MNIST dataset from Kaggle (found at https://www.kaggle.com/c/digit-recognizer/data)\n",
    "import pandas as pd\n",
    "df = pd.read_csv(\"./train.csv\")\n",
    "df.drop('label', inplace=True, axis=1)"
   ]
  },
  {
   "cell_type": "code",
   "execution_count": 11,
   "metadata": {
    "collapsed": false
   },
   "outputs": [
    {
     "name": "stdout",
     "output_type": "stream",
     "text": [
      "(205, 0.5, 1.75)\n"
     ]
    }
   ],
   "source": [
    "#parameter search\n",
    "images           = [np.array(df.iloc[x]).reshape(28, 28).astype(bool) for x in range(10)]\n",
    "corrupted_images = [corrupt_image(img) for img in images] \n",
    "m = 1000\n",
    "for x in drange(0, 5, 0.25):\n",
    "    for y in drange(0, 5, 0.25):\n",
    "        b = sum([errors(i, recover(c, x, y)) for (i, c) in zip(images, corrupted_images)])\n",
    "        if b < m:\n",
    "            best = (b, x, y)\n",
    "            m = b\n",
    "print(best)\n",
    "error, selected_K, selected_R = best"
   ]
  },
  {
   "cell_type": "code",
   "execution_count": 12,
   "metadata": {
    "collapsed": false
   },
   "outputs": [
    {
     "data": {
      "image/png": "[encoded data removed]",
      "text/plain": [
       "<matplotlib.figure.Figure at 0x7f42b8214518>"
      ]
     },
     "metadata": {},
     "output_type": "display_data"
    },
    {
     "data": {
      "image/png": "[encoded data removed]",
      "text/plain": [
       "<matplotlib.figure.Figure at 0x7f42bb21b0f0>"
      ]
     },
     "metadata": {},
     "output_type": "display_data"
    },
    {
     "data": {
      "image/png": "[encoded data removed]",
      "text/plain": [
       "<matplotlib.figure.Figure at 0x7f42beaff390>"
      ]
     },
     "metadata": {},
     "output_type": "display_data"
    },
    {
     "data": {
      "image/png": "[encoded data removed]",
      "text/plain": [
       "<matplotlib.figure.Figure at 0x7f428bb39a90>"
      ]
     },
     "metadata": {},
     "output_type": "display_data"
    },
    {
     "data": {
      "image/png": "[encoded data removed]",
      "text/plain": [
       "<matplotlib.figure.Figure at 0x7f428ba83b38>"
      ]
     },
     "metadata": {},
     "output_type": "display_data"
    },
    {
     "data": {
      "image/png": "[encoded data removed]",
      "text/plain": [
       "<matplotlib.figure.Figure at 0x7f428b92fcf8>"
      ]
     },
     "metadata": {},
     "output_type": "display_data"
    },
    {
     "data": {
      "image/png": "[encoded data removed]",
      "text/plain": [
       "<matplotlib.figure.Figure at 0x7f428b82a5f8>"
      ]
     },
     "metadata": {},
     "output_type": "display_data"
    },
    {
     "data": {
      "image/png": "[encoded data removed]",
      "text/plain": [
       "<matplotlib.figure.Figure at 0x7f428b772eb8>"
      ]
     },
     "metadata": {},
     "output_type": "display_data"
    },
    {
     "data": {
      "image/png": "[encoded data removed]",
      "text/plain": [
       "<matplotlib.figure.Figure at 0x7f428b6e4400>"
      ]
     },
     "metadata": {},
     "output_type": "display_data"
    },
    {
     "data": {
      "image/png": "[encoded data removed]",
      "text/plain": [
       "<matplotlib.figure.Figure at 0x7f428b65db00>"
      ]
     },
     "metadata": {},
     "output_type": "display_data"
    }
   ],
   "source": [
    "for x in range(10):\n",
    "    orginal   = np.array(df.iloc[x]).reshape(28, 28).astype(bool)\n",
    "    corrupted = corrupt_image(orginal, p=0.2)\n",
    "    recovered = recover(corrupted, selected_K, selected_R)\n",
    "    plot_images( [orginal, corrupted, recovered] )"
   ]
  },
  {
   "cell_type": "code",
   "execution_count": null,
   "metadata": {
    "collapsed": true
   },
   "outputs": [],
   "source": []
  }
 ],
 "metadata": {
  "kernelspec": {
   "display_name": "Python 3",
   "language": "python",
   "name": "python3"
  },
  "language_info": {
   "codemirror_mode": {
    "name": "ipython",
    "version": 3
   },
   "file_extension": ".py",
   "mimetype": "text/x-python",
   "name": "python",
   "nbconvert_exporter": "python",
   "pygments_lexer": "ipython3",
   "version": "3.5.2"
  }
 },
 "nbformat": 4,
 "nbformat_minor": 2
}
