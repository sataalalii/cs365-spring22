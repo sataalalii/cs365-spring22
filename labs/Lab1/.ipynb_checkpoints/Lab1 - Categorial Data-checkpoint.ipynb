{
 "cells": [
  {
   "cell_type": "code",
   "execution_count": 1,
   "metadata": {},
   "outputs": [
    {
     "name": "stdout",
     "output_type": "stream",
     "text": [
      "<class 'pandas.core.frame.DataFrame'>\n",
      "RangeIndex: 2440 entries, 0 to 2439\n",
      "Data columns (total 7 columns):\n",
      " #   Column         Non-Null Count  Dtype  \n",
      "---  ------         --------------  -----  \n",
      " 0   Location Type  2440 non-null   object \n",
      " 1   Incident Zip   2440 non-null   float64\n",
      " 2   City           2440 non-null   object \n",
      " 3   Borough        2440 non-null   object \n",
      " 4   Latitude       2440 non-null   float64\n",
      " 5   Longitude      2440 non-null   float64\n",
      " 6   num_calls      2440 non-null   int64  \n",
      "dtypes: float64(3), int64(1), object(3)\n",
      "memory usage: 133.6+ KB\n"
     ]
    }
   ],
   "source": [
    "import pandas as pd\n",
    "#import statsmodels\n",
    "#from statsmodels.graphics.mosaicplot import mosaic\n",
    "\n",
    "df = pd.read_csv(\"./parties/bar_locations.csv\")\n",
    "\n",
    "df.info()"
   ]
  },
  {
   "cell_type": "code",
   "execution_count": 2,
   "metadata": {},
   "outputs": [
    {
     "data": {
      "text/plain": [
       "MANHATTAN        1076\n",
       "BROOKLYN          736\n",
       "QUEENS            418\n",
       "BRONX             141\n",
       "STATEN ISLAND      64\n",
       "Unspecified         5\n",
       "Name: Borough, dtype: int64"
      ]
     },
     "execution_count": 2,
     "metadata": {},
     "output_type": "execute_result"
    }
   ],
   "source": [
    "df['Borough'].value_counts()"
   ]
  },
  {
   "cell_type": "code",
   "execution_count": 3,
   "metadata": {},
   "outputs": [
    {
     "data": {
      "text/html": [
       "<div>\n",
       "<style scoped>\n",
       "    .dataframe tbody tr th:only-of-type {\n",
       "        vertical-align: middle;\n",
       "    }\n",
       "\n",
       "    .dataframe tbody tr th {\n",
       "        vertical-align: top;\n",
       "    }\n",
       "\n",
       "    .dataframe thead th {\n",
       "        text-align: right;\n",
       "    }\n",
       "</style>\n",
       "<table border=\"1\" class=\"dataframe\">\n",
       "  <thead>\n",
       "    <tr style=\"text-align: right;\">\n",
       "      <th></th>\n",
       "      <th>Location Type</th>\n",
       "      <th>Incident Zip</th>\n",
       "      <th>City</th>\n",
       "      <th>Borough</th>\n",
       "      <th>Latitude</th>\n",
       "      <th>Longitude</th>\n",
       "      <th>num_calls</th>\n",
       "    </tr>\n",
       "  </thead>\n",
       "  <tbody>\n",
       "    <tr>\n",
       "      <th>0</th>\n",
       "      <td>Club/Bar/Restaurant</td>\n",
       "      <td>10308.0</td>\n",
       "      <td>STATEN ISLAND</td>\n",
       "      <td>STATEN ISLAND</td>\n",
       "      <td>40.544096</td>\n",
       "      <td>-74.141155</td>\n",
       "      <td>40</td>\n",
       "    </tr>\n",
       "    <tr>\n",
       "      <th>1</th>\n",
       "      <td>Club/Bar/Restaurant</td>\n",
       "      <td>10012.0</td>\n",
       "      <td>NEW YORK</td>\n",
       "      <td>MANHATTAN</td>\n",
       "      <td>40.729793</td>\n",
       "      <td>-73.998842</td>\n",
       "      <td>18</td>\n",
       "    </tr>\n",
       "    <tr>\n",
       "      <th>2</th>\n",
       "      <td>Club/Bar/Restaurant</td>\n",
       "      <td>10308.0</td>\n",
       "      <td>STATEN ISLAND</td>\n",
       "      <td>STATEN ISLAND</td>\n",
       "      <td>40.544209</td>\n",
       "      <td>-74.141040</td>\n",
       "      <td>21</td>\n",
       "    </tr>\n",
       "    <tr>\n",
       "      <th>3</th>\n",
       "      <td>Club/Bar/Restaurant</td>\n",
       "      <td>10034.0</td>\n",
       "      <td>NEW YORK</td>\n",
       "      <td>MANHATTAN</td>\n",
       "      <td>40.866376</td>\n",
       "      <td>-73.928258</td>\n",
       "      <td>160</td>\n",
       "    </tr>\n",
       "    <tr>\n",
       "      <th>4</th>\n",
       "      <td>Club/Bar/Restaurant</td>\n",
       "      <td>11220.0</td>\n",
       "      <td>BROOKLYN</td>\n",
       "      <td>BROOKLYN</td>\n",
       "      <td>40.635207</td>\n",
       "      <td>-74.020285</td>\n",
       "      <td>17</td>\n",
       "    </tr>\n",
       "    <tr>\n",
       "      <th>5</th>\n",
       "      <td>Club/Bar/Restaurant</td>\n",
       "      <td>10029.0</td>\n",
       "      <td>NEW YORK</td>\n",
       "      <td>MANHATTAN</td>\n",
       "      <td>40.791861</td>\n",
       "      <td>-73.945392</td>\n",
       "      <td>211</td>\n",
       "    </tr>\n",
       "    <tr>\n",
       "      <th>6</th>\n",
       "      <td>Club/Bar/Restaurant</td>\n",
       "      <td>10002.0</td>\n",
       "      <td>NEW YORK</td>\n",
       "      <td>MANHATTAN</td>\n",
       "      <td>40.718795</td>\n",
       "      <td>-73.989012</td>\n",
       "      <td>41</td>\n",
       "    </tr>\n",
       "    <tr>\n",
       "      <th>7</th>\n",
       "      <td>Club/Bar/Restaurant</td>\n",
       "      <td>10034.0</td>\n",
       "      <td>NEW YORK</td>\n",
       "      <td>MANHATTAN</td>\n",
       "      <td>40.869549</td>\n",
       "      <td>-73.916348</td>\n",
       "      <td>271</td>\n",
       "    </tr>\n",
       "    <tr>\n",
       "      <th>8</th>\n",
       "      <td>Club/Bar/Restaurant</td>\n",
       "      <td>11373.0</td>\n",
       "      <td>ELMHURST</td>\n",
       "      <td>QUEENS</td>\n",
       "      <td>40.739249</td>\n",
       "      <td>-73.884457</td>\n",
       "      <td>15</td>\n",
       "    </tr>\n",
       "    <tr>\n",
       "      <th>9</th>\n",
       "      <td>Club/Bar/Restaurant</td>\n",
       "      <td>10013.0</td>\n",
       "      <td>NEW YORK</td>\n",
       "      <td>MANHATTAN</td>\n",
       "      <td>40.722789</td>\n",
       "      <td>-74.004596</td>\n",
       "      <td>43</td>\n",
       "    </tr>\n",
       "  </tbody>\n",
       "</table>\n",
       "</div>"
      ],
      "text/plain": [
       "         Location Type  Incident Zip           City        Borough   Latitude  \\\n",
       "0  Club/Bar/Restaurant       10308.0  STATEN ISLAND  STATEN ISLAND  40.544096   \n",
       "1  Club/Bar/Restaurant       10012.0       NEW YORK      MANHATTAN  40.729793   \n",
       "2  Club/Bar/Restaurant       10308.0  STATEN ISLAND  STATEN ISLAND  40.544209   \n",
       "3  Club/Bar/Restaurant       10034.0       NEW YORK      MANHATTAN  40.866376   \n",
       "4  Club/Bar/Restaurant       11220.0       BROOKLYN       BROOKLYN  40.635207   \n",
       "5  Club/Bar/Restaurant       10029.0       NEW YORK      MANHATTAN  40.791861   \n",
       "6  Club/Bar/Restaurant       10002.0       NEW YORK      MANHATTAN  40.718795   \n",
       "7  Club/Bar/Restaurant       10034.0       NEW YORK      MANHATTAN  40.869549   \n",
       "8  Club/Bar/Restaurant       11373.0       ELMHURST         QUEENS  40.739249   \n",
       "9  Club/Bar/Restaurant       10013.0       NEW YORK      MANHATTAN  40.722789   \n",
       "\n",
       "   Longitude  num_calls  \n",
       "0 -74.141155         40  \n",
       "1 -73.998842         18  \n",
       "2 -74.141040         21  \n",
       "3 -73.928258        160  \n",
       "4 -74.020285         17  \n",
       "5 -73.945392        211  \n",
       "6 -73.989012         41  \n",
       "7 -73.916348        271  \n",
       "8 -73.884457         15  \n",
       "9 -74.004596         43  "
      ]
     },
     "execution_count": 3,
     "metadata": {},
     "output_type": "execute_result"
    }
   ],
   "source": [
    "df.head(10)"
   ]
  },
  {
   "cell_type": "markdown",
   "metadata": {},
   "source": [
    "# Data Manipulation\n",
    "\n",
    "## Determine which Borough had the most amount of noise complaints, support with bar graph\n",
    "\n",
    "Ideal dataframe:\n",
    "\n",
    "row 1 Brorough1 total_calls <br />\n",
    "row 2 Borough2  total_calls  <br />\n",
    "..."
   ]
  },
  {
   "cell_type": "code",
   "execution_count": 4,
   "metadata": {},
   "outputs": [
    {
     "data": {
      "text/plain": [
       "<AxesSubplot:>"
      ]
     },
     "execution_count": 4,
     "metadata": {},
     "output_type": "execute_result"
    },
    {
     "data": {
      "image/png": "[encoded data removed]",
      "text/plain": [
       "<Figure size 432x288 with 1 Axes>"
      ]
     },
     "metadata": {
      "needs_background": "light"
     },
     "output_type": "display_data"
    }
   ],
   "source": [
    "df['Borough'].value_counts().plot(kind='bar')"
   ]
  },
  {
   "cell_type": "code",
   "execution_count": 5,
   "metadata": {},
   "outputs": [],
   "source": [
    "#drop columns:\n",
    "df = df.drop(['Location Type', 'Incident Zip','Latitude', 'Longitude', 'City'],axis=1)"
   ]
  },
  {
   "cell_type": "code",
   "execution_count": 6,
   "metadata": {},
   "outputs": [],
   "source": [
    "df = df.groupby('Borough').sum().reset_index()"
   ]
  },
  {
   "cell_type": "code",
   "execution_count": 7,
   "metadata": {},
   "outputs": [
    {
     "data": {
      "text/html": [
       "<div>\n",
       "<style scoped>\n",
       "    .dataframe tbody tr th:only-of-type {\n",
       "        vertical-align: middle;\n",
       "    }\n",
       "\n",
       "    .dataframe tbody tr th {\n",
       "        vertical-align: top;\n",
       "    }\n",
       "\n",
       "    .dataframe thead th {\n",
       "        text-align: right;\n",
       "    }\n",
       "</style>\n",
       "<table border=\"1\" class=\"dataframe\">\n",
       "  <thead>\n",
       "    <tr style=\"text-align: right;\">\n",
       "      <th></th>\n",
       "      <th>Borough</th>\n",
       "      <th>num_calls</th>\n",
       "    </tr>\n",
       "  </thead>\n",
       "  <tbody>\n",
       "    <tr>\n",
       "      <th>0</th>\n",
       "      <td>BRONX</td>\n",
       "      <td>3672</td>\n",
       "    </tr>\n",
       "    <tr>\n",
       "      <th>1</th>\n",
       "      <td>BROOKLYN</td>\n",
       "      <td>27852</td>\n",
       "    </tr>\n",
       "    <tr>\n",
       "      <th>2</th>\n",
       "      <td>MANHATTAN</td>\n",
       "      <td>39926</td>\n",
       "    </tr>\n",
       "    <tr>\n",
       "      <th>3</th>\n",
       "      <td>QUEENS</td>\n",
       "      <td>16381</td>\n",
       "    </tr>\n",
       "    <tr>\n",
       "      <th>4</th>\n",
       "      <td>STATEN ISLAND</td>\n",
       "      <td>2256</td>\n",
       "    </tr>\n",
       "    <tr>\n",
       "      <th>5</th>\n",
       "      <td>Unspecified</td>\n",
       "      <td>256</td>\n",
       "    </tr>\n",
       "  </tbody>\n",
       "</table>\n",
       "</div>"
      ],
      "text/plain": [
       "         Borough  num_calls\n",
       "0          BRONX       3672\n",
       "1       BROOKLYN      27852\n",
       "2      MANHATTAN      39926\n",
       "3         QUEENS      16381\n",
       "4  STATEN ISLAND       2256\n",
       "5    Unspecified        256"
      ]
     },
     "execution_count": 7,
     "metadata": {},
     "output_type": "execute_result"
    }
   ],
   "source": [
    "df"
   ]
  },
  {
   "cell_type": "code",
   "execution_count": 8,
   "metadata": {},
   "outputs": [
    {
     "data": {
      "text/plain": [
       "<AxesSubplot:xlabel='Borough'>"
      ]
     },
     "execution_count": 8,
     "metadata": {},
     "output_type": "execute_result"
    },
    {
     "data": {
      "image/png": "[encoded data removed]",
      "text/plain": [
       "<Figure size 432x288 with 1 Axes>"
      ]
     },
     "metadata": {
      "needs_background": "light"
     },
     "output_type": "display_data"
    }
   ],
   "source": [
    "df.plot(kind='bar',x='Borough',y='num_calls')"
   ]
  },
  {
   "cell_type": "markdown",
   "metadata": {},
   "source": [
    "# Practice problems"
   ]
  },
  {
   "cell_type": "code",
   "execution_count": null,
   "metadata": {},
   "outputs": [],
   "source": [
    "df = pd.read_csv(\"./UFO/scrubbed.csv\")\n",
    "\n",
    "df.info()\n",
    "\n",
    "df.head()"
   ]
  },
  {
   "cell_type": "code",
   "execution_count": null,
   "metadata": {},
   "outputs": [],
   "source": [
    "#1. what \"shape\" of UFO has been seen for the longest duration(seconds)?"
   ]
  },
  {
   "cell_type": "code",
   "execution_count": null,
   "metadata": {},
   "outputs": [],
   "source": [
    "#2. What is the most common \"shape\" of UFO in this dataset? (Support with figure)"
   ]
  }
 ],
 "metadata": {
  "kernelspec": {
   "display_name": "Python 3",
   "language": "python",
   "name": "python3"
  },
  "language_info": {
   "codemirror_mode": {
    "name": "ipython",
    "version": 3
   },
   "file_extension": ".py",
   "mimetype": "text/x-python",
   "name": "python",
   "nbconvert_exporter": "python",
   "pygments_lexer": "ipython3",
   "version": "3.9.0"
  }
 },
 "nbformat": 4,
 "nbformat_minor": 4
}
