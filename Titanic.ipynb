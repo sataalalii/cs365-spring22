{
 "cells": [
  {
   "cell_type": "code",
   "execution_count": 1,
   "id": "8897e3c3",
   "metadata": {},
   "outputs": [],
   "source": [
    "import pandas as pd \n",
    "import matplotlib.pyplot as plt\n",
    "%matplotlib inline"
   ]
  },
  {
   "cell_type": "code",
   "execution_count": 2,
   "id": "089fbef7",
   "metadata": {},
   "outputs": [],
   "source": [
    "df = pd.read_csv(\"./data/titanic.txt\",sep=\"\\t\")"
   ]
  },
  {
   "cell_type": "code",
   "execution_count": 3,
   "id": "a14773cd",
   "metadata": {},
   "outputs": [
    {
     "data": {
      "text/plain": [
       "Yes    203\n",
       "No     122\n",
       "Name: Survived, dtype: int64"
      ]
     },
     "execution_count": 3,
     "metadata": {},
     "output_type": "execute_result"
    }
   ],
   "source": [
    "df.loc[df[\"Class\"]==\"First\"][\"Survived\"].value_counts()"
   ]
  },
  {
   "cell_type": "code",
   "execution_count": 4,
   "id": "7860b3c3",
   "metadata": {},
   "outputs": [
    {
     "name": "stdout",
     "output_type": "stream",
     "text": [
      "Class: First\n",
      "Yes    203\n",
      "No     122\n",
      "Name: Survived, dtype: int64\n",
      "Class: Second\n",
      "No     167\n",
      "Yes    118\n",
      "Name: Survived, dtype: int64\n",
      "Class: Third\n",
      "No     528\n",
      "Yes    178\n",
      "Name: Survived, dtype: int64\n",
      "Class: Crew\n",
      "No     673\n",
      "Yes    212\n",
      "Name: Survived, dtype: int64\n"
     ]
    }
   ],
   "source": [
    "for s in df[\"Class\"].unique():\n",
    "    print(\"Class: \"+s)\n",
    "    print(df.loc[df[\"Class\"]==s][\"Survived\"].value_counts())"
   ]
  },
  {
   "cell_type": "code",
   "execution_count": 5,
   "id": "7e09c202",
   "metadata": {},
   "outputs": [
    {
     "name": "stdout",
     "output_type": "stream",
     "text": [
      "Class: First\n",
      "Yes    0.624615\n",
      "No     0.375385\n",
      "Name: Survived, dtype: float64\n",
      "Class: Second\n",
      "No     0.585965\n",
      "Yes    0.414035\n",
      "Name: Survived, dtype: float64\n",
      "Class: Third\n",
      "No     0.747875\n",
      "Yes    0.252125\n",
      "Name: Survived, dtype: float64\n",
      "Class: Crew\n",
      "No     0.760452\n",
      "Yes    0.239548\n",
      "Name: Survived, dtype: float64\n"
     ]
    }
   ],
   "source": [
    "for s in df[\"Class\"].unique():\n",
    "    print(\"Class: \"+s)\n",
    "    print(df.loc[df[\"Class\"]==s][\"Survived\"].value_counts(normalize=True))"
   ]
  },
  {
   "cell_type": "code",
   "execution_count": 6,
   "id": "cad52316",
   "metadata": {},
   "outputs": [
    {
     "name": "stdout",
     "output_type": "stream",
     "text": [
      "Sex: Male\n",
      "No     1364\n",
      "Yes     367\n",
      "Name: Survived, dtype: int64\n",
      "Sex: Female\n",
      "Yes    344\n",
      "No     126\n",
      "Name: Survived, dtype: int64\n"
     ]
    }
   ],
   "source": [
    "for s in df[\"Sex\"].unique():\n",
    "    print(\"Sex: \"+s)\n",
    "    print(df.loc[df[\"Sex\"]==s][\"Survived\"].value_counts())"
   ]
  },
  {
   "cell_type": "code",
   "execution_count": 7,
   "id": "a4446dde",
   "metadata": {},
   "outputs": [
    {
     "name": "stdout",
     "output_type": "stream",
     "text": [
      "Sex: Male\n",
      "No     0.787984\n",
      "Yes    0.212016\n",
      "Name: Survived, dtype: float64\n",
      "Sex: Female\n",
      "Yes    0.731915\n",
      "No     0.268085\n",
      "Name: Survived, dtype: float64\n"
     ]
    }
   ],
   "source": [
    "for s in df[\"Sex\"].unique():\n",
    "    print(\"Sex: \"+s)\n",
    "    print(df.loc[df[\"Sex\"]==s][\"Survived\"].value_counts(normalize=True))"
   ]
  },
  {
   "cell_type": "code",
   "execution_count": 8,
   "id": "5168502a",
   "metadata": {},
   "outputs": [
    {
     "name": "stdout",
     "output_type": "stream",
     "text": [
      "Age: Adult\n",
      "No     0.68738\n",
      "Yes    0.31262\n",
      "Name: Survived, dtype: float64\n",
      "Age: Child\n",
      "Yes    0.522936\n",
      "No     0.477064\n",
      "Name: Survived, dtype: float64\n"
     ]
    }
   ],
   "source": [
    "for s in df[\"Age\"].unique():\n",
    "    print(\"Age: \"+s)\n",
    "    print(df.loc[df[\"Age\"]==s][\"Survived\"].value_counts(normalize=True))"
   ]
  },
  {
   "cell_type": "code",
   "execution_count": 9,
   "id": "c4a4e73d",
   "metadata": {},
   "outputs": [],
   "source": [
    "import matplotlib.pyplot as plt\n",
    "from statsmodels.graphics.mosaicplot import mosaic\n"
   ]
  },
  {
   "cell_type": "code",
   "execution_count": 10,
   "id": "dfb26dda",
   "metadata": {},
   "outputs": [
    {
     "data": {
      "text/plain": [
       "(<Figure size 432x288 with 3 Axes>,\n",
       " {('Male', 'Yes'): (0.0, 0.0, 0.7825479598825501, 0.21131180294454652),\n",
       "  ('Male', 'No'): (0.0,\n",
       "   0.21463406208075914,\n",
       "   0.7825479598825501,\n",
       "   0.7853659379192409),\n",
       "  ('Female', 'Yes'): (0.7875230842606595,\n",
       "   0.0,\n",
       "   0.21247691573934058,\n",
       "   0.7294832826747719),\n",
       "  ('Female', 'No'): (0.7875230842606595,\n",
       "   0.7328055418109846,\n",
       "   0.21247691573934058,\n",
       "   0.2671944581890154)})"
      ]
     },
     "execution_count": 10,
     "metadata": {},
     "output_type": "execute_result"
    },
    {
     "data": {
      "image/png": "[encoded data removed]",
      "text/plain": [
       "<Figure size 432x288 with 3 Axes>"
      ]
     },
     "metadata": {
      "needs_background": "light"
     },
     "output_type": "display_data"
    }
   ],
   "source": [
    "mosaic(df, ['Sex', 'Survived', ], title='Titanic Sex-Class Mosaic Plot')"
   ]
  },
  {
   "cell_type": "code",
   "execution_count": 11,
   "id": "fe2e105a",
   "metadata": {},
   "outputs": [
    {
     "data": {
      "text/plain": [
       "(<Figure size 432x288 with 3 Axes>,\n",
       " {('First', 'Yes'): (0.0, 0.0, 0.1454779847046685, 0.622540250447227),\n",
       "  ('First', 'No'): (0.0,\n",
       "   0.6258625095834397,\n",
       "   0.1454779847046685,\n",
       "   0.3741374904165602),\n",
       "  ('Second', 'Yes'): (0.15040409307905273,\n",
       "   0.0,\n",
       "   0.12757300197178623,\n",
       "   0.4126595558664102),\n",
       "  ('Second', 'No'): (0.15040409307905273,\n",
       "   0.4159818150026228,\n",
       "   0.12757300197178623,\n",
       "   0.5840181849973771),\n",
       "  ('Third', 'Yes'): (0.2829032034252232,\n",
       "   0.0,\n",
       "   0.31602294523537217,\n",
       "   0.25128702248407103),\n",
       "  ('Third', 'No'): (0.2829032034252232,\n",
       "   0.2546092816202837,\n",
       "   0.31602294523537217,\n",
       "   0.7453907183797163),\n",
       "  ('Crew', 'Yes'): (0.6038522570349796,\n",
       "   0.0,\n",
       "   0.39614774296502026,\n",
       "   0.23875218199222928),\n",
       "  ('Crew', 'No'): (0.6038522570349796,\n",
       "   0.2420744411284419,\n",
       "   0.39614774296502026,\n",
       "   0.757925558871558)})"
      ]
     },
     "execution_count": 11,
     "metadata": {},
     "output_type": "execute_result"
    },
    {
     "data": {
      "image/png": "[encoded data removed]",
      "text/plain": [
       "<Figure size 432x288 with 3 Axes>"
      ]
     },
     "metadata": {
      "needs_background": "light"
     },
     "output_type": "display_data"
    }
   ],
   "source": [
    "mosaic(df, ['Class', 'Survived', ], title='Titanic Class-Survival')"
   ]
  },
  {
   "cell_type": "code",
   "execution_count": 12,
   "id": "87a734b4",
   "metadata": {},
   "outputs": [
    {
     "data": {
      "text/plain": [
       "(<Figure size 432x288 with 3 Axes>,\n",
       " {('Male', 'First', 'Yes'): (0.0, 0.0, 0.268946638097107, 0.10295656948710469),\n",
       "  ('Male', 'First', 'No'): (0.27068177769773355,\n",
       "   0.0,\n",
       "   0.5118661821848166,\n",
       "   0.10295656948710469),\n",
       "  ('Male', 'Second', 'Yes'): (0.0,\n",
       "   0.10625689952010799,\n",
       "   0.10905206987177704,\n",
       "   0.10238458854550968),\n",
       "  ('Male', 'Second', 'No'): (0.11078720947240353,\n",
       "   0.10625689952010799,\n",
       "   0.6717607504101466,\n",
       "   0.10238458854550968),\n",
       "  ('Male', 'Third', 'Yes'): (0.0,\n",
       "   0.21194181809862095,\n",
       "   0.13472848663688095,\n",
       "   0.2917102802134633),\n",
       "  ('Male', 'Third', 'No'): (0.13646362623750743,\n",
       "   0.21194181809862095,\n",
       "   0.6460843336450427,\n",
       "   0.2917102802134633),\n",
       "  ('Male', 'Crew', 'Yes'): (0.0,\n",
       "   0.5069524283450876,\n",
       "   0.17391654465676257,\n",
       "   0.4930475716549124),\n",
       "  ('Male', 'Crew', 'No'): (0.17565168425738906,\n",
       "   0.5069524283450876,\n",
       "   0.6068962756251611,\n",
       "   0.4930475716549124),\n",
       "  ('Female', 'First', 'Yes'): (0.7875230842606595,\n",
       "   0.0,\n",
       "   0.20615735612296293,\n",
       "   0.30545607752264586),\n",
       "  ('Female', 'First', 'No'): (0.9941515643653062,\n",
       "   0.0,\n",
       "   0.005848435634693996,\n",
       "   0.30545607752264586),\n",
       "  ('Female', 'Second', 'Yes'): (0.7875230842606595,\n",
       "   0.3087564075556492,\n",
       "   0.1860050814477556,\n",
       "   0.22329892563724463),\n",
       "  ('Female', 'Second', 'No'): (0.9739992896900989,\n",
       "   0.3087564075556492,\n",
       "   0.026000710309901313,\n",
       "   0.22329892563724463),\n",
       "  ('Female', 'Third', 'Yes'): (0.7875230842606595,\n",
       "   0.5353556632258971,\n",
       "   0.09734959825606694,\n",
       "   0.4128923530650937),\n",
       "  ('Female', 'Third', 'No'): (0.8853438064984102,\n",
       "   0.5353556632258971,\n",
       "   0.11465619350158994,\n",
       "   0.4128923530650937),\n",
       "  ('Female', 'Crew', 'Yes'): (0.7875230842606595,\n",
       "   0.9515483463239941,\n",
       "   0.18435286239796253,\n",
       "   0.048451653676005915),\n",
       "  ('Female', 'Crew', 'No'): (0.9723470706403058,\n",
       "   0.9515483463239941,\n",
       "   0.02765292935969439,\n",
       "   0.048451653676005915)})"
      ]
     },
     "execution_count": 12,
     "metadata": {},
     "output_type": "execute_result"
    },
    {
     "data": {
      "image/png": "[encoded data removed]",
      "text/plain": [
       "<Figure size 432x288 with 3 Axes>"
      ]
     },
     "metadata": {
      "needs_background": "light"
     },
     "output_type": "display_data"
    }
   ],
   "source": [
    "mosaic(df, ['Sex', 'Class', 'Survived', ], title='Titanic')"
   ]
  },
  {
   "cell_type": "code",
   "execution_count": null,
   "id": "0625bc08",
   "metadata": {},
   "outputs": [],
   "source": []
  }
 ],
 "metadata": {
  "kernelspec": {
   "display_name": "Python 3",
   "language": "python",
   "name": "python3"
  },
  "language_info": {
   "codemirror_mode": {
    "name": "ipython",
    "version": 3
   },
   "file_extension": ".py",
   "mimetype": "text/x-python",
   "name": "python",
   "nbconvert_exporter": "python",
   "pygments_lexer": "ipython3",
   "version": "3.9.5"
  }
 },
 "nbformat": 4,
 "nbformat_minor": 5
}
